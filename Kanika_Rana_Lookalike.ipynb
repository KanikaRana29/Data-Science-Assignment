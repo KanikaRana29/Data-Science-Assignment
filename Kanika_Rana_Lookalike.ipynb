{
  "nbformat": 4,
  "nbformat_minor": 0,
  "metadata": {
    "colab": {
      "provenance": [],
      "authorship_tag": "ABX9TyMD+fsFSUGxtIv84qY2g8e4",
      "include_colab_link": true
    },
    "kernelspec": {
      "name": "python3",
      "display_name": "Python 3"
    },
    "language_info": {
      "name": "python"
    }
  },
  "cells": [
    {
      "cell_type": "markdown",
      "metadata": {
        "id": "view-in-github",
        "colab_type": "text"
      },
      "source": [
        "<a href=\"https://colab.research.google.com/github/KanikaRana29/Data-Science-Assignment/blob/main/Kanika_Rana_Lookalike.ipynb\" target=\"_parent\"><img src=\"https://colab.research.google.com/assets/colab-badge.svg\" alt=\"Open In Colab\"/></a>"
      ]
    },
    {
      "cell_type": "markdown",
      "source": [
        "**Importing the libraries**"
      ],
      "metadata": {
        "id": "_AcYES04sCY_"
      }
    },
    {
      "cell_type": "code",
      "execution_count": 1,
      "metadata": {
        "id": "82EkiBYGm_Aq"
      },
      "outputs": [],
      "source": [
        "import pandas as pd\n",
        "import numpy as np"
      ]
    },
    {
      "cell_type": "markdown",
      "source": [
        "**Loading the datasets**"
      ],
      "metadata": {
        "id": "NINoJDfwrw1a"
      }
    },
    {
      "cell_type": "code",
      "source": [
        "customers = pd.read_csv('/content/Customers.csv')\n",
        "products = pd.read_csv('/content/Products.csv')\n",
        "transactions=pd.read_csv('/content/Transactions.csv')"
      ],
      "metadata": {
        "id": "0Yw3kMOYncfI"
      },
      "execution_count": 26,
      "outputs": []
    },
    {
      "cell_type": "markdown",
      "source": [
        "**Merge datasets for easy analysis as we don't have large datasets so we can easily perform operations on one merged dataset only**"
      ],
      "metadata": {
        "id": "uq0DC3UFsUaV"
      }
    },
    {
      "cell_type": "code",
      "source": [
        "merged_data = pd.merge(transactions, customers, on='CustomerID')\n",
        "merged_data = pd.merge(merged_data, products, on='ProductID')"
      ],
      "metadata": {
        "id": "zR_96_qBnrB7"
      },
      "execution_count": 27,
      "outputs": []
    },
    {
      "cell_type": "markdown",
      "source": [
        "**Feature Engineering**"
      ],
      "metadata": {
        "id": "XDN6GeersvGS"
      }
    },
    {
      "cell_type": "code",
      "source": [
        "customer_features = merged_data.groupby('CustomerID').agg({\n",
        "    'TotalValue': ['sum', 'mean'],  # Spending patterns\n",
        "    'Category': lambda x: x.value_counts().idxmax(),  # Most purchased category\n",
        "    'Region': 'first',  # Demographics\n",
        "}).reset_index()\n",
        "customer_features.columns = ['CustomerID', 'TotalSpend', 'AvgSpend', 'TopCategory', 'Region']\n",
        "print(customer_features.head())"
      ],
      "metadata": {
        "colab": {
          "base_uri": "https://localhost:8080/"
        },
        "id": "r3h8MAhCn266",
        "outputId": "fee1599e-41f2-4876-e850-a056e2bc4d52"
      },
      "execution_count": 28,
      "outputs": [
        {
          "output_type": "stream",
          "name": "stdout",
          "text": [
            "  CustomerID  TotalSpend  AvgSpend  TopCategory         Region\n",
            "0      C0001     3354.52   670.904  Electronics  South America\n",
            "1      C0002     1862.74   465.685   Home Decor           Asia\n",
            "2      C0003     2725.38   681.345   Home Decor  South America\n",
            "3      C0004     5354.88   669.360        Books  South America\n",
            "4      C0005     2034.24   678.080  Electronics           Asia\n"
          ]
        }
      ]
    },
    {
      "cell_type": "markdown",
      "source": [
        "**Encoding Categorical Values**"
      ],
      "metadata": {
        "id": "hgt67rm6s4_i"
      }
    },
    {
      "cell_type": "code",
      "source": [
        "customer_features = pd.get_dummies(customer_features, columns=['Region', 'TopCategory'], drop_first=True)"
      ],
      "metadata": {
        "id": "osqnq8fSoBJ0"
      },
      "execution_count": 29,
      "outputs": []
    },
    {
      "cell_type": "markdown",
      "source": [
        "**Customer feature matrix (matrix representation of customer features)**"
      ],
      "metadata": {
        "id": "hV3aLBqttP5Q"
      }
    },
    {
      "cell_type": "code",
      "source": [
        "customer_feature_matrix = customer_features.drop('CustomerID', axis=1).values"
      ],
      "metadata": {
        "id": "d70fnyiYoPm2"
      },
      "execution_count": 30,
      "outputs": []
    },
    {
      "cell_type": "markdown",
      "source": [
        "**Calculating Cosine Similarity**"
      ],
      "metadata": {
        "id": "W8pX93xKteMt"
      }
    },
    {
      "cell_type": "code",
      "source": [
        "from sklearn.metrics.pairwise import cosine_similarity\n",
        "similarity_matrix = cosine_similarity(customer_feature_matrix)"
      ],
      "metadata": {
        "id": "tztvLlaLoUvt"
      },
      "execution_count": 31,
      "outputs": []
    },
    {
      "cell_type": "code",
      "source": [
        "# Generate top 3 lookalikes for the first 20 customers\n",
        "lookalike_map = {}\n",
        "for idx, cust_id in enumerate(customer_features['CustomerID'][:20]):\n",
        "    # similarity scores for the current customer\n",
        "    similarity_scores = similarity_matrix[idx]\n",
        "\n",
        "    # The top 3 similar customers (excluding the current customer itself)\n",
        "    similar_customers = [(customer_features['CustomerID'][i], similarity_scores[i])\n",
        "                         for i in range(len(similarity_scores)) if customer_features['CustomerID'][i] != cust_id]\n",
        "\n",
        "    # Sort the customers based on similarity score (descending) and get the top 3\n",
        "    top_3_similar = sorted(similar_customers, key=lambda x: x[1], reverse=True)[:3]\n",
        "\n",
        "    # Storing the results in the lookalike map\n",
        "    lookalike_map[cust_id] = top_3_similar"
      ],
      "metadata": {
        "id": "XaMbcID_oYOp"
      },
      "execution_count": 32,
      "outputs": []
    },
    {
      "cell_type": "code",
      "source": [
        "# Saving to Lookalike.csv\n",
        "lookalike_df = pd.DataFrame([\n",
        "    {'cust_id': k, 'lookalikes': v} for k, v in lookalike_map.items()\n",
        "])\n",
        "lookalike_df.to_csv('Lookalike.csv', index=False)\n",
        "\n",
        "# results\n",
        "print(\"Lookalike Map for First 20 Customers:\\n\", lookalike_map)"
      ],
      "metadata": {
        "colab": {
          "base_uri": "https://localhost:8080/"
        },
        "id": "y_ktRFuzop7C",
        "outputId": "19673559-427b-4421-c4ae-04d45684b9ea"
      },
      "execution_count": 33,
      "outputs": [
        {
          "output_type": "stream",
          "name": "stdout",
          "text": [
            "Lookalike Map for First 20 Customers:\n",
            " {'C0001': [('C0107', 0.9999999995277805), ('C0190', 0.9999999986747098), ('C0048', 0.9999999985800574)], 'C0002': [('C0178', 0.9999999867685928), ('C0158', 0.9999999321876165), ('C0117', 0.9999999318048751)], 'C0003': [('C0133', 0.9999999996151886), ('C0052', 0.999999998846642), ('C0158', 0.9999999909881527)], 'C0004': [('C0188', 0.9999999892176178), ('C0099', 0.9999999883793411), ('C0104', 0.9999999880317908)], 'C0005': [('C0186', 0.999999997396094), ('C0007', 0.9999999951365319), ('C0115', 0.999999986558959)], 'C0006': [('C0168', 0.9999999808715238), ('C0027', 0.9999999736694801), ('C0142', 0.9999999736694801)], 'C0007': [('C0115', 0.9999999978658433), ('C0005', 0.9999999951365319), ('C0186', 0.9999999854153196)], 'C0008': [('C0065', 0.9999999893695143), ('C0141', 0.9999999370477491), ('C0175', 0.9999999329031855)], 'C0009': [('C0062', 0.9999997700035874), ('C0061', 0.999999622345061), ('C0167', 0.9999995829277026)], 'C0010': [('C0092', 0.9999998109115859), ('C0070', 0.999999808106613), ('C0135', 0.9999998078519686)], 'C0011': [('C0137', 0.9999999995084919), ('C0187', 0.9999999987351824), ('C0191', 0.9999999979397398)], 'C0012': [('C0082', 0.9999999803826319), ('C0087', 0.99999997008632), ('C0013', 0.9999999681917536)], 'C0013': [('C0108', 0.9999999984634717), ('C0143', 0.9999999863907065), ('C0082', 0.9999999858047716)], 'C0014': [('C0110', 0.9999964596371205), ('C0080', 0.9999963871424109), ('C0078', 0.9999950760720089)], 'C0015': [('C0144', 0.9999997612082924), ('C0123', 0.9999997014391864), ('C0140', 0.999999589239562)], 'C0016': [('C0183', 0.9999999999974695), ('C0072', 0.9999999945515038), ('C0055', 0.9999999918914024)], 'C0017': [('C0161', 0.9999999782153223), ('C0173', 0.9999999782153223), ('C0021', 0.9999999782153222)], 'C0018': [('C0016', 0.9999999668191459), ('C0183', 0.9999999663376057), ('C0138', 0.9999999636998929)], 'C0019': [('C0057', 0.9999999726618402), ('C0105', 0.9999999486705804), ('C0100', 0.9999999482771721)], 'C0020': [('C0078', 0.9999994123461087), ('C0080', 0.9999991660643528), ('C0110', 0.9999991308043932)]}\n"
          ]
        }
      ]
    },
    {
      "cell_type": "code",
      "source": [
        "from sklearn.metrics import average_precision_score\n",
        "\n",
        "# Assuming `lookalike_map` contains recommendations for the first 20 customers\n",
        "# We will need to assume some labels for this comparison\n",
        "# For simplicity, we assume customers within the same region as \"true\" lookalikes.\n",
        "# You can expand this for a more complex label generation.\n",
        "\n",
        "# Generate a \"true\" lookalike label based on the region (or any other feature)\n",
        "true_labels = {}\n",
        "\n",
        "for cust_id in customer_features['CustomerID'][:20]:\n",
        "    # Get the original region before one-hot encoding\n",
        "    # by finding the one-hot encoded column with value 1\n",
        "    region_cols = [col for col in customer_features.columns if col.startswith('Region_')]\n",
        "\n",
        "    # Get the region value for the customer\n",
        "    region = customer_features.loc[customer_features['CustomerID'] == cust_id, region_cols].idxmax(axis=1).values[0].replace('Region_', '')\n",
        "\n",
        "\n",
        "    # Find customers within the same region based on the original region name\n",
        "    true_labels[cust_id] = customer_features.loc[\n",
        "        customer_features[region_cols].apply(lambda row: row.idxmax() == f'Region_{region}', axis=1),\n",
        "        'CustomerID'\n",
        "    ].tolist()\n",
        "\n",
        "# Now, evaluate the top 3 recommended lookalikes for each customer\n",
        "y_true = []\n",
        "y_pred = []\n",
        "\n",
        "for cust_id, recommendations in lookalike_map.items():\n",
        "    # True lookalikes based on region\n",
        "    true_similar_customers = true_labels[cust_id]\n",
        "\n",
        "    # Get recommended lookalikes\n",
        "    recommended_customers = [rec[0] for rec in recommendations]  # Extract customer IDs\n",
        "\n",
        "    # For each recommendation, check if it's in the true lookalikes list\n",
        "    for rec in recommended_customers:\n",
        "        y_true.append(1 if rec in true_similar_customers else 0)\n",
        "        y_pred.append(1)  # We assume all predictions are relevant to check precision/recall\n",
        "\n",
        "# Calculate Precision, Recall, and F1-Score\n",
        "from sklearn.metrics import precision_score, recall_score, f1_score\n",
        "\n",
        "precision = precision_score(y_true, y_pred)\n",
        "recall = recall_score(y_true, y_pred)\n",
        "f1 = f1_score(y_true, y_pred)\n",
        "\n",
        "print(f\"Precision: {precision:.4f}\")\n",
        "print(f\"Recall: {recall:.4f}\")\n",
        "print(f\"F1-Score: {f1:.4f}\")"
      ],
      "metadata": {
        "colab": {
          "base_uri": "https://localhost:8080/"
        },
        "id": "QHp2MTgQownm",
        "outputId": "efdb9981-27dc-41a7-b769-c83a9e50469b"
      },
      "execution_count": 34,
      "outputs": [
        {
          "output_type": "stream",
          "name": "stdout",
          "text": [
            "Precision: 0.7833\n",
            "Recall: 1.0000\n",
            "F1-Score: 0.8785\n"
          ]
        }
      ]
    },
    {
      "cell_type": "code",
      "source": [],
      "metadata": {
        "id": "d-pGD6PHpBC6"
      },
      "execution_count": null,
      "outputs": []
    }
  ]
}